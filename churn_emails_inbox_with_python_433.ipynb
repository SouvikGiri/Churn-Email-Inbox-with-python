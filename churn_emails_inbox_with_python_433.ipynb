{
 "cells": [
  {
   "cell_type": "code",
   "execution_count": 4,
   "metadata": {},
   "outputs": [],
   "source": [
    "def number_of_lines():\n",
    "    fhand = open('/cxldata/datasets/project/mbox-short.txt')\n",
    "    inp = fhand.read()\n",
    "    fhand.close()\n",
    "    count = 0\n",
    "    for c in inp:\n",
    "        if c == '\\n':\n",
    "            count += 1\n",
    "    return count"
   ]
  },
  {
   "cell_type": "code",
   "execution_count": 7,
   "metadata": {},
   "outputs": [
    {
     "name": "stdout",
     "output_type": "stream",
     "text": [
      "From: stephen.marquard@uct.ac.za\n",
      "From: louis@media.berkeley.edu\n",
      "From: zqian@umich.edu\n",
      "From: rjlowe@iupui.edu\n",
      "From: zqian@umich.edu\n",
      "From: rjlowe@iupui.edu\n",
      "From: cwen@iupui.edu\n",
      "From: cwen@iupui.edu\n",
      "From: gsilver@umich.edu\n",
      "From: gsilver@umich.edu\n",
      "From: zqian@umich.edu\n",
      "From: gsilver@umich.edu\n",
      "From: wagnermr@iupui.edu\n",
      "From: zqian@umich.edu\n",
      "From: antranig@caret.cam.ac.uk\n",
      "From: gopal.ramasammycook@gmail.com\n",
      "From: david.horwitz@uct.ac.za\n",
      "From: david.horwitz@uct.ac.za\n",
      "From: david.horwitz@uct.ac.za\n",
      "From: david.horwitz@uct.ac.za\n",
      "From: stephen.marquard@uct.ac.za\n",
      "From: louis@media.berkeley.edu\n",
      "From: louis@media.berkeley.edu\n",
      "From: ray@media.berkeley.edu\n",
      "From: cwen@iupui.edu\n",
      "From: cwen@iupui.edu\n",
      "From: cwen@iupui.edu\n"
     ]
    }
   ],
   "source": [
    "fhand = open('/cxldata/datasets/project/mbox-short.txt')\n",
    "count = 0\n",
    "for line in fhand:\n",
    "    line = line.rstrip() # Remove new line characters from right\n",
    "    if line.startswith('From:'):\n",
    "        print(line)"
   ]
  },
  {
   "cell_type": "code",
   "execution_count": 8,
   "metadata": {},
   "outputs": [
    {
     "data": {
      "text/plain": [
       "27"
      ]
     },
     "execution_count": 8,
     "metadata": {},
     "output_type": "execute_result"
    }
   ],
   "source": [
    "def count_number_of_lines():\n",
    "    with open('/cxldata/datasets/project/mbox-short.txt') as f:\n",
    "        cnt = 0\n",
    "        for c in f:\n",
    "            c=c.rstrip()\n",
    "            if c.startswith('Subject:'):\n",
    "                cnt += 1\n",
    "    return cnt\n",
    "count_number_of_lines()"
   ]
  },
  {
   "cell_type": "code",
   "execution_count": 11,
   "metadata": {},
   "outputs": [],
   "source": [
    "def average_spam_confidence():\n",
    "    f=open(\"/cxldata/datasets/project/mbox-short.txt\",\"r\")\n",
    "    spam_confidence_sum=0\n",
    "    count=0\n",
    "    for line in f:\n",
    "        line=line.rstrip()\n",
    "        if(line.startswith(\"X-DSPAM-Confidence:\")):\n",
    "            var,value=line.split(\":\")\n",
    "            spam_confidence_sum=spam_confidence_sum+float(value)\n",
    "            count=count+1"
   ]
  },
  {
   "cell_type": "code",
   "execution_count": 12,
   "metadata": {},
   "outputs": [
    {
     "name": "stdout",
     "output_type": "stream",
     "text": [
      "X-DSPAM-Confidence\n",
      "\n"
     ]
    }
   ],
   "source": [
    "var,value=\"X-DSPAM-Confidence:\".split(\":\")\n",
    "print(var)\n",
    "print(value)"
   ]
  },
  {
   "cell_type": "code",
   "execution_count": 15,
   "metadata": {},
   "outputs": [
    {
     "name": "stdout",
     "output_type": "stream",
     "text": [
      "X-DSPAM-Confidence\n",
      "\n"
     ]
    }
   ],
   "source": [
    "def average_spam_confidence():\n",
    "    f=open(\"/cxldata/datasets/project/mbox-short.txt\",\"r\")\n",
    "    spam_confidence_sum=0\n",
    "    count=0\n",
    "    for line in f:\n",
    "        line=line.rstrip()\n",
    "        if(line.startswith(\"X-DSPAM-Confidence:\")):\n",
    "            var,value=line.split(\":\")\n",
    "            spam_confidence_sum=spam_confidence_sum+float(value)\n",
    "            count=count+1\n",
    "            var,value=\"X-DSPAM-Confidence:\".split(\":\")\n",
    "print(var)\n",
    "print(value)"
   ]
  },
  {
   "cell_type": "code",
   "execution_count": 18,
   "metadata": {},
   "outputs": [],
   "source": [
    "def average_spam_confidence():\n",
    "    with open('/cxldata/datasets/project/mbox-short.txt') as f:\n",
    "        count = 0\n",
    "        spam_confidence_sum = 0\n",
    "        for line in f:\n",
    "            line = line.rstrip() # Remove new line characters from right\n",
    "            if line.startswith('X-DSPAM-Confidence:'):\n",
    "                var, value = line.split(':')\n",
    "                spam_confidence_sum = spam_confidence_sum + float(value)\n",
    "                count = count + 1\n",
    "    return spam_confidence_sum/count"
   ]
  },
  {
   "cell_type": "code",
   "execution_count": 21,
   "metadata": {},
   "outputs": [
    {
     "name": "stdout",
     "output_type": "stream",
     "text": [
      "{'Sat': 1, 'Fri': 20, 'Thu': 6}\n"
     ]
    }
   ],
   "source": [
    "import re\n",
    "def find_email_sent_days():\n",
    "    with open(\"/cxldata/datasets/project/mbox-short.txt\") as f:\n",
    "            content=f.readlines()            \n",
    "            day_dict={}\n",
    "            dayofweek=''\n",
    "            for line in content:\n",
    "                if re.findall('From ',line):\n",
    "                    dayofweek=line.split(' ')[2]\n",
    "                    day_dict[dayofweek]= day_dict.get(dayofweek,0) + 1                    \n",
    "    return day_dict\n",
    "print(find_email_sent_days())"
   ]
  },
  {
   "cell_type": "code",
   "execution_count": 28,
   "metadata": {},
   "outputs": [],
   "source": [
    "import re\n",
    "def count_message_from_email():\n",
    "    file=input('Enter file Address : ')\n",
    "    fhandle = open(file)\n",
    "    dic = {}\n",
    "    for line in fhandle:\n",
    "        if line.find('From:')!= -1: \n",
    "            emailid = re.findall('\\S+.@.+\\S' ,line )\n",
    "            KEY = str(emailid)\n",
    "            dic[KEY] = dic.get(KEY,0) +1\n",
    "    return dic\n",
    "\n",
    " "
   ]
  },
  {
   "cell_type": "code",
   "execution_count": null,
   "metadata": {},
   "outputs": [],
   "source": [
    "def count_message_from_email():\n",
    "    fhand=open(\"/cxldata/datasets/project/mbox-short.txt\")\n",
    "    d = {}\n",
    "    for line in fhand:\n",
    "        line=line.rstrip()\n",
    "        if line.startswith(\"From:\"):\n",
    "            find_mail=line.split()\n",
    "            mail = find_mail[1]\n",
    "            d[mail]= d.get(mail,0)+1\n",
    "    return d\n",
    "print(count_message_from_email())"
   ]
  },
  {
   "cell_type": "code",
   "execution_count": null,
   "metadata": {},
   "outputs": [],
   "source": [
    "def count_message_from_email():\n",
    "    file=open('/cxldata/datasets/project/mbox-short.txt')\n",
    "    email_ids=list()\n",
    "    email_ids_count=dict()\n",
    "    for line in file:\n",
    "        line.rstrip()\n",
    "        if line.startswith('From:'):\n",
    "            x=line.split()\n",
    "            for email in x:\n",
    "                email_ids.append(x[1])\n",
    "    for ids in email_ids:\n",
    "        email_ids_count[ids]=email_ids_count.get(ids,0)+1\n",
    "    return email_ids_count"
   ]
  },
  {
   "cell_type": "code",
   "execution_count": null,
   "metadata": {},
   "outputs": [],
   "source": [
    "def count_message_from_email():\n",
    "    lineslist=[]\n",
    "    emaildict={}\n",
    "    with open(\"/cxldata/datasets/project/mbox-short.txt\") as f:\n",
    "      for line in f:\n",
    "        lineslist = line.split()\n",
    "        if line.startswith('From:'):\n",
    "          email=lineslist[1]\n",
    "          if email not in emaildict:\n",
    "            emaildict[email] = 1\n",
    "          else:\n",
    "            emaildict[email] += 1\n",
    "    return emaildict"
   ]
  },
  {
   "cell_type": "code",
   "execution_count": null,
   "metadata": {},
   "outputs": [],
   "source": [
    "def count_message_from_domain():\n",
    "    lineslist=[]\n",
    "    domaindict={}\n",
    "    with open(\"/cxldata/datasets/project/mbox-short.txt\") as f:\n",
    "        for line in f:\n",
    "            lineslist = line.split()\n",
    "            if line.startswith('From:'):\n",
    "                email=lineslist[1]\n",
    "                domain = email.split('@')[1] \n",
    "                if domain not in domaindict:\n",
    "                    domaindict[domain] = 1\n",
    "                else:\n",
    "                    domaindict[domain] += 1\n",
    "    return domaindict"
   ]
  },
  {
   "cell_type": "code",
   "execution_count": null,
   "metadata": {},
   "outputs": [],
   "source": [
    "def count_message_from_domain():\n",
    "    lineslist=[]\n",
    "    domaindict={}\n",
    "    with open(\"/cxldata/datasets/project/mbox-short.txt\") as f:\n",
    "        for line in f:\n",
    "            lineslist = line.split()\n",
    "            if line.startswith('From:'):\n",
    "                email=lineslist[1]\n",
    "                domain = email.split('@')[1] \n",
    "                if domain not in domaindict:\n",
    "                    domaindict[domain] = 1\n",
    "                else:\n",
    "                    domaindict[domain] += 1\n",
    "    return domaindict"
   ]
  },
  {
   "cell_type": "code",
   "execution_count": 7,
   "metadata": {},
   "outputs": [],
   "source": [
    "def count_message_from_domain():\n",
    "    lineslist=[]\n",
    "    domaindict={}\n",
    "    with open(\"/cxldata/datasets/project/mbox-short.txt\") as f:\n",
    "        for line in f:\n",
    "            lineslist = line.split()\n",
    "            if line.startswith('From:'):\n",
    "                email=lineslist[1]\n",
    "                domain = email.split('@')[1] \n",
    "                if domain not in domaindict:\n",
    "                    domaindict[domain] = 1\n",
    "                else:\n",
    "                    domaindict[domain] += 1\n",
    "    return domaindict"
   ]
  },
  {
   "cell_type": "code",
   "execution_count": 14,
   "metadata": {},
   "outputs": [],
   "source": [
    "def count_message_from_email():\n",
    "    lineslist=[]\n",
    "    emaildict={}\n",
    "    with open(\"/cxldata/datasets/project/mbox-short.txt\") as f:\n",
    "      for line in f:\n",
    "        lineslist = line.split()\n",
    "        if line.startswith('From:'):\n",
    "          email=lineslist[1]\n",
    "          if email not in emaildict:\n",
    "            emaildict[email] = 1\n",
    "          else:\n",
    "            emaildict[email] += 1\n",
    "    return emaildict"
   ]
  },
  {
   "cell_type": "code",
   "execution_count": null,
   "metadata": {},
   "outputs": [],
   "source": []
  }
 ],
 "metadata": {
  "kernelspec": {
   "display_name": "Python 3",
   "language": "python",
   "name": "python3"
  },
  "language_info": {
   "codemirror_mode": {
    "name": "ipython",
    "version": 3
   },
   "file_extension": ".py",
   "mimetype": "text/x-python",
   "name": "python",
   "nbconvert_exporter": "python",
   "pygments_lexer": "ipython3",
   "version": "3.6.8"
  },
  "toc": {
   "base_numbering": 1,
   "nav_menu": {},
   "number_sections": true,
   "sideBar": true,
   "skip_h1_title": false,
   "title_cell": "Table of Contents",
   "title_sidebar": "Contents",
   "toc_cell": false,
   "toc_position": {},
   "toc_section_display": true,
   "toc_window_display": false
  }
 },
 "nbformat": 4,
 "nbformat_minor": 2
}
